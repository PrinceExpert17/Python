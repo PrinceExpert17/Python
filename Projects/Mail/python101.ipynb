{
 "cells": [
  {
   "cell_type": "markdown",
   "source": [
    "# Part 1: Send email"
   ],
   "metadata": {}
  },
  {
   "cell_type": "code",
   "execution_count": 3,
   "source": [
    "import smtplib\r\n",
    "from email.mime.text import MIMEText\r\n",
    "from email.mime.multipart import MIMEMultipart"
   ],
   "outputs": [],
   "metadata": {}
  },
  {
   "cell_type": "markdown",
   "source": [
    "## Create a mail sending function"
   ],
   "metadata": {}
  },
  {
   "cell_type": "code",
   "execution_count": 2,
   "source": [
    "#Use environment variables to secure this password\r\n",
    "username = 'thutmose2021@gmail.com'\r\n",
    "password = 'kis20danc!'"
   ],
   "outputs": [],
   "metadata": {}
  },
  {
   "cell_type": "code",
   "execution_count": 11,
   "source": [
    "def send_email(text='Email Body', subject='Hello Python',\r\n",
    " from_email='ThutMose <thutmose2021@gmail.com>', to_email=None, html=None):\r\n",
    "    assert isinstance(to_email, list) #list helps to get a list of emails if there are multiple people to send to\r\n",
    "    msg = MIMEMultipart('alternative')\r\n",
    "    msg['From'] = from_email\r\n",
    "    msg['To'] = ','.join(to_email)\r\n",
    "    msg['Subject'] = subject\r\n",
    "\r\n",
    "    txt = MIMEText(text, 'plain')\r\n",
    "    msg.attach(txt)\r\n",
    "    if html != None:\r\n",
    "        html = MIMEText(html, 'html')\r\n",
    "        msg.attach(html)\r\n",
    "    msg_str = msg.as_string()\r\n",
    "    #Now login to smtp server\r\n",
    "    server = smtplib.SMTP(host='smtp.gmail.com', port=587)\r\n",
    "    server.ehlo()\r\n",
    "    server.starttls()\r\n",
    "    server.login(username, password)\r\n",
    "    server.sendmail(from_email, to_email, msg_str)\r\n",
    "\r\n",
    "    server.quit()\r\n",
    "    #with smtplib.SMTP() as server:\r\n",
    "    #    pass"
   ],
   "outputs": [],
   "metadata": {}
  },
  {
   "cell_type": "code",
   "execution_count": 12,
   "source": [
    "send_email(to_email=['thutmose2021@gmail.com'])"
   ],
   "outputs": [],
   "metadata": {}
  },
  {
   "cell_type": "markdown",
   "source": [
    "## Create another function from the previous function to send email"
   ],
   "metadata": {}
  },
  {
   "cell_type": "code",
   "execution_count": null,
   "source": [
    "from python"
   ],
   "outputs": [],
   "metadata": {}
  },
  {
   "cell_type": "code",
   "execution_count": null,
   "source": [],
   "outputs": [],
   "metadata": {}
  }
 ],
 "metadata": {
  "orig_nbformat": 4,
  "language_info": {
   "name": "python",
   "version": "3.9.5",
   "mimetype": "text/x-python",
   "codemirror_mode": {
    "name": "ipython",
    "version": 3
   },
   "pygments_lexer": "ipython3",
   "nbconvert_exporter": "python",
   "file_extension": ".py"
  },
  "kernelspec": {
   "name": "python3",
   "display_name": "Python 3.9.5 64-bit ('.ds': venv)"
  },
  "interpreter": {
   "hash": "d328fe25a0d39479faef677232cb023a7af412edc317b1d40bec7914d838646e"
  }
 },
 "nbformat": 4,
 "nbformat_minor": 2
}