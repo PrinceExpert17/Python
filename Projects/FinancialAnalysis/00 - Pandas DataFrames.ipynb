{
 "cells": [
  {
   "cell_type": "markdown",
   "metadata": {},
   "source": [
    "# DataFrames and Read Data"
   ]
  },
  {
   "cell_type": "markdown",
   "metadata": {},
   "source": [
    "### Download CSV from page and read into DataFrame"
   ]
  },
  {
   "cell_type": "code",
   "execution_count": 1,
   "metadata": {},
   "outputs": [],
   "source": [
    "import pandas as pd"
   ]
  },
  {
   "cell_type": "code",
   "execution_count": 2,
   "metadata": {},
   "outputs": [],
   "source": [
    "csv_file = \"https://raw.githubusercontent.com/LearnPythonWithRune/PythonForFinancialAnalysis/main/AAPL.csv\"\n",
    "aapl = pd.read_csv(csv_file)"
   ]
  },
  {
   "cell_type": "code",
   "execution_count": 3,
   "metadata": {
    "collapsed": true
   },
   "outputs": [
    {
     "data": {
      "text/html": [
       "<div>\n",
       "<style scoped>\n",
       "    .dataframe tbody tr th:only-of-type {\n",
       "        vertical-align: middle;\n",
       "    }\n",
       "\n",
       "    .dataframe tbody tr th {\n",
       "        vertical-align: top;\n",
       "    }\n",
       "\n",
       "    .dataframe thead th {\n",
       "        text-align: right;\n",
       "    }\n",
       "</style>\n",
       "<table border=\"1\" class=\"dataframe\">\n",
       "  <thead>\n",
       "    <tr style=\"text-align: right;\">\n",
       "      <th></th>\n",
       "      <th>Date</th>\n",
       "      <th>Open</th>\n",
       "      <th>High</th>\n",
       "      <th>Low</th>\n",
       "      <th>Close</th>\n",
       "      <th>Adj Close</th>\n",
       "      <th>Volume</th>\n",
       "    </tr>\n",
       "  </thead>\n",
       "  <tbody>\n",
       "    <tr>\n",
       "      <th>0</th>\n",
       "      <td>2016-03-09</td>\n",
       "      <td>25.327499</td>\n",
       "      <td>25.395000</td>\n",
       "      <td>25.067499</td>\n",
       "      <td>25.280001</td>\n",
       "      <td>23.513155</td>\n",
       "      <td>108806800</td>\n",
       "    </tr>\n",
       "    <tr>\n",
       "      <th>1</th>\n",
       "      <td>2016-03-10</td>\n",
       "      <td>25.352501</td>\n",
       "      <td>25.559999</td>\n",
       "      <td>25.037500</td>\n",
       "      <td>25.292500</td>\n",
       "      <td>23.524775</td>\n",
       "      <td>134054400</td>\n",
       "    </tr>\n",
       "    <tr>\n",
       "      <th>2</th>\n",
       "      <td>2016-03-11</td>\n",
       "      <td>25.559999</td>\n",
       "      <td>25.570000</td>\n",
       "      <td>25.375000</td>\n",
       "      <td>25.565001</td>\n",
       "      <td>23.778234</td>\n",
       "      <td>109632800</td>\n",
       "    </tr>\n",
       "    <tr>\n",
       "      <th>3</th>\n",
       "      <td>2016-03-14</td>\n",
       "      <td>25.477501</td>\n",
       "      <td>25.727501</td>\n",
       "      <td>25.445000</td>\n",
       "      <td>25.629999</td>\n",
       "      <td>23.838688</td>\n",
       "      <td>100304400</td>\n",
       "    </tr>\n",
       "    <tr>\n",
       "      <th>4</th>\n",
       "      <td>2016-03-15</td>\n",
       "      <td>25.990000</td>\n",
       "      <td>26.295000</td>\n",
       "      <td>25.962500</td>\n",
       "      <td>26.145000</td>\n",
       "      <td>24.317701</td>\n",
       "      <td>160270800</td>\n",
       "    </tr>\n",
       "  </tbody>\n",
       "</table>\n",
       "</div>"
      ],
      "text/plain": [
       "         Date       Open       High        Low      Close  Adj Close  \\\n",
       "0  2016-03-09  25.327499  25.395000  25.067499  25.280001  23.513155   \n",
       "1  2016-03-10  25.352501  25.559999  25.037500  25.292500  23.524775   \n",
       "2  2016-03-11  25.559999  25.570000  25.375000  25.565001  23.778234   \n",
       "3  2016-03-14  25.477501  25.727501  25.445000  25.629999  23.838688   \n",
       "4  2016-03-15  25.990000  26.295000  25.962500  26.145000  24.317701   \n",
       "\n",
       "      Volume  \n",
       "0  108806800  \n",
       "1  134054400  \n",
       "2  109632800  \n",
       "3  100304400  \n",
       "4  160270800  "
      ]
     },
     "execution_count": 3,
     "metadata": {},
     "output_type": "execute_result"
    }
   ],
   "source": [
    "aapl.head()"
   ]
  },
  {
   "cell_type": "code",
   "execution_count": 4,
   "metadata": {
    "collapsed": true
   },
   "outputs": [
    {
     "data": {
      "text/plain": [
       "Date          object\n",
       "Open         float64\n",
       "High         float64\n",
       "Low          float64\n",
       "Close        float64\n",
       "Adj Close    float64\n",
       "Volume         int64\n",
       "dtype: object"
      ]
     },
     "execution_count": 4,
     "metadata": {},
     "output_type": "execute_result"
    }
   ],
   "source": [
    "aapl.dtypes"
   ]
  },
  {
   "cell_type": "code",
   "execution_count": 5,
   "metadata": {
    "collapsed": true
   },
   "outputs": [
    {
     "data": {
      "text/plain": [
       "RangeIndex(start=0, stop=1258, step=1)"
      ]
     },
     "execution_count": 5,
     "metadata": {},
     "output_type": "execute_result"
    }
   ],
   "source": [
    "aapl.index"
   ]
  },
  {
   "cell_type": "code",
   "execution_count": 2,
   "metadata": {},
   "outputs": [
    {
     "ename": "NameError",
     "evalue": "name 'pd' is not defined",
     "output_type": "error",
     "traceback": [
      "\u001b[1;31m---------------------------------------------------------------------------\u001b[0m",
      "\u001b[1;31mNameError\u001b[0m                                 Traceback (most recent call last)",
      "\u001b[1;32m<ipython-input-2-37c1404fbbeb>\u001b[0m in \u001b[0;36m<module>\u001b[1;34m\u001b[0m\n\u001b[1;32m----> 1\u001b[1;33m \u001b[0maapl\u001b[0m \u001b[1;33m=\u001b[0m \u001b[0mpd\u001b[0m\u001b[1;33m.\u001b[0m\u001b[0mread_csv\u001b[0m\u001b[1;33m(\u001b[0m\u001b[0mcsv_file\u001b[0m\u001b[1;33m,\u001b[0m \u001b[0mindex_col\u001b[0m\u001b[1;33m=\u001b[0m\u001b[1;34m\"Date\"\u001b[0m\u001b[1;33m,\u001b[0m \u001b[0mparse_dates\u001b[0m\u001b[1;33m=\u001b[0m\u001b[1;32mTrue\u001b[0m\u001b[1;33m)\u001b[0m\u001b[1;33m\u001b[0m\u001b[1;33m\u001b[0m\u001b[0m\n\u001b[0m",
      "\u001b[1;31mNameError\u001b[0m: name 'pd' is not defined"
     ]
    }
   ],
   "source": [
    "aapl = pd.read_csv(csv_file, index_col=\"Date\", parse_dates=True)"
   ]
  },
  {
   "cell_type": "code",
   "execution_count": 7,
   "metadata": {
    "collapsed": true
   },
   "outputs": [
    {
     "data": {
      "text/html": [
       "<div>\n",
       "<style scoped>\n",
       "    .dataframe tbody tr th:only-of-type {\n",
       "        vertical-align: middle;\n",
       "    }\n",
       "\n",
       "    .dataframe tbody tr th {\n",
       "        vertical-align: top;\n",
       "    }\n",
       "\n",
       "    .dataframe thead th {\n",
       "        text-align: right;\n",
       "    }\n",
       "</style>\n",
       "<table border=\"1\" class=\"dataframe\">\n",
       "  <thead>\n",
       "    <tr style=\"text-align: right;\">\n",
       "      <th></th>\n",
       "      <th>Open</th>\n",
       "      <th>High</th>\n",
       "      <th>Low</th>\n",
       "      <th>Close</th>\n",
       "      <th>Adj Close</th>\n",
       "      <th>Volume</th>\n",
       "    </tr>\n",
       "    <tr>\n",
       "      <th>Date</th>\n",
       "      <th></th>\n",
       "      <th></th>\n",
       "      <th></th>\n",
       "      <th></th>\n",
       "      <th></th>\n",
       "      <th></th>\n",
       "    </tr>\n",
       "  </thead>\n",
       "  <tbody>\n",
       "    <tr>\n",
       "      <th>2016-03-09</th>\n",
       "      <td>25.327499</td>\n",
       "      <td>25.395000</td>\n",
       "      <td>25.067499</td>\n",
       "      <td>25.280001</td>\n",
       "      <td>23.513155</td>\n",
       "      <td>108806800</td>\n",
       "    </tr>\n",
       "    <tr>\n",
       "      <th>2016-03-10</th>\n",
       "      <td>25.352501</td>\n",
       "      <td>25.559999</td>\n",
       "      <td>25.037500</td>\n",
       "      <td>25.292500</td>\n",
       "      <td>23.524775</td>\n",
       "      <td>134054400</td>\n",
       "    </tr>\n",
       "    <tr>\n",
       "      <th>2016-03-11</th>\n",
       "      <td>25.559999</td>\n",
       "      <td>25.570000</td>\n",
       "      <td>25.375000</td>\n",
       "      <td>25.565001</td>\n",
       "      <td>23.778234</td>\n",
       "      <td>109632800</td>\n",
       "    </tr>\n",
       "    <tr>\n",
       "      <th>2016-03-14</th>\n",
       "      <td>25.477501</td>\n",
       "      <td>25.727501</td>\n",
       "      <td>25.445000</td>\n",
       "      <td>25.629999</td>\n",
       "      <td>23.838688</td>\n",
       "      <td>100304400</td>\n",
       "    </tr>\n",
       "    <tr>\n",
       "      <th>2016-03-15</th>\n",
       "      <td>25.990000</td>\n",
       "      <td>26.295000</td>\n",
       "      <td>25.962500</td>\n",
       "      <td>26.145000</td>\n",
       "      <td>24.317701</td>\n",
       "      <td>160270800</td>\n",
       "    </tr>\n",
       "  </tbody>\n",
       "</table>\n",
       "</div>"
      ],
      "text/plain": [
       "                 Open       High        Low      Close  Adj Close     Volume\n",
       "Date                                                                        \n",
       "2016-03-09  25.327499  25.395000  25.067499  25.280001  23.513155  108806800\n",
       "2016-03-10  25.352501  25.559999  25.037500  25.292500  23.524775  134054400\n",
       "2016-03-11  25.559999  25.570000  25.375000  25.565001  23.778234  109632800\n",
       "2016-03-14  25.477501  25.727501  25.445000  25.629999  23.838688  100304400\n",
       "2016-03-15  25.990000  26.295000  25.962500  26.145000  24.317701  160270800"
      ]
     },
     "execution_count": 7,
     "metadata": {},
     "output_type": "execute_result"
    }
   ],
   "source": [
    "aapl.head()"
   ]
  },
  {
   "cell_type": "code",
   "execution_count": 8,
   "metadata": {
    "collapsed": true
   },
   "outputs": [
    {
     "data": {
      "text/plain": [
       "Open         float64\n",
       "High         float64\n",
       "Low          float64\n",
       "Close        float64\n",
       "Adj Close    float64\n",
       "Volume         int64\n",
       "dtype: object"
      ]
     },
     "execution_count": 8,
     "metadata": {},
     "output_type": "execute_result"
    }
   ],
   "source": [
    "aapl.dtypes"
   ]
  },
  {
   "cell_type": "code",
   "execution_count": null,
   "metadata": {},
   "outputs": [],
   "source": [
    "aapl.index"
   ]
  },
  {
   "cell_type": "code",
   "execution_count": 9,
   "metadata": {},
   "outputs": [
    {
     "data": {
      "text/plain": [
       "Open         1.249400e+02\n",
       "High         1.255600e+02\n",
       "Low          1.222300e+02\n",
       "Close        1.253500e+02\n",
       "Adj Close    1.253500e+02\n",
       "Volume       1.110399e+08\n",
       "Name: 2021-02-24 00:00:00, dtype: float64"
      ]
     },
     "execution_count": 9,
     "metadata": {},
     "output_type": "execute_result"
    }
   ],
   "source": [
    "aapl.loc['2021-02-24']"
   ]
  },
  {
   "cell_type": "code",
   "execution_count": 10,
   "metadata": {},
   "outputs": [
    {
     "data": {
      "text/html": [
       "<div>\n",
       "<style scoped>\n",
       "    .dataframe tbody tr th:only-of-type {\n",
       "        vertical-align: middle;\n",
       "    }\n",
       "\n",
       "    .dataframe tbody tr th {\n",
       "        vertical-align: top;\n",
       "    }\n",
       "\n",
       "    .dataframe thead th {\n",
       "        text-align: right;\n",
       "    }\n",
       "</style>\n",
       "<table border=\"1\" class=\"dataframe\">\n",
       "  <thead>\n",
       "    <tr style=\"text-align: right;\">\n",
       "      <th></th>\n",
       "      <th>Open</th>\n",
       "      <th>High</th>\n",
       "      <th>Low</th>\n",
       "      <th>Close</th>\n",
       "      <th>Adj Close</th>\n",
       "      <th>Volume</th>\n",
       "    </tr>\n",
       "    <tr>\n",
       "      <th>Date</th>\n",
       "      <th></th>\n",
       "      <th></th>\n",
       "      <th></th>\n",
       "      <th></th>\n",
       "      <th></th>\n",
       "      <th></th>\n",
       "    </tr>\n",
       "  </thead>\n",
       "  <tbody>\n",
       "    <tr>\n",
       "      <th>2021-02-24</th>\n",
       "      <td>124.940002</td>\n",
       "      <td>125.559998</td>\n",
       "      <td>122.230003</td>\n",
       "      <td>125.349998</td>\n",
       "      <td>125.349998</td>\n",
       "      <td>111039900</td>\n",
       "    </tr>\n",
       "    <tr>\n",
       "      <th>2021-02-25</th>\n",
       "      <td>124.680000</td>\n",
       "      <td>126.459999</td>\n",
       "      <td>120.540001</td>\n",
       "      <td>120.989998</td>\n",
       "      <td>120.989998</td>\n",
       "      <td>148199500</td>\n",
       "    </tr>\n",
       "    <tr>\n",
       "      <th>2021-02-26</th>\n",
       "      <td>122.589996</td>\n",
       "      <td>124.849998</td>\n",
       "      <td>121.199997</td>\n",
       "      <td>121.260002</td>\n",
       "      <td>121.260002</td>\n",
       "      <td>164320000</td>\n",
       "    </tr>\n",
       "  </tbody>\n",
       "</table>\n",
       "</div>"
      ],
      "text/plain": [
       "                  Open        High         Low       Close   Adj Close  \\\n",
       "Date                                                                     \n",
       "2021-02-24  124.940002  125.559998  122.230003  125.349998  125.349998   \n",
       "2021-02-25  124.680000  126.459999  120.540001  120.989998  120.989998   \n",
       "2021-02-26  122.589996  124.849998  121.199997  121.260002  121.260002   \n",
       "\n",
       "               Volume  \n",
       "Date                   \n",
       "2021-02-24  111039900  \n",
       "2021-02-25  148199500  \n",
       "2021-02-26  164320000  "
      ]
     },
     "execution_count": 10,
     "metadata": {},
     "output_type": "execute_result"
    }
   ],
   "source": [
    "aapl.loc['2021-02-24':'2021-02-28']"
   ]
  },
  {
   "cell_type": "code",
   "execution_count": 11,
   "metadata": {},
   "outputs": [
    {
     "data": {
      "text/plain": [
       "Open         2.532750e+01\n",
       "High         2.539500e+01\n",
       "Low          2.506750e+01\n",
       "Close        2.528000e+01\n",
       "Adj Close    2.351316e+01\n",
       "Volume       1.088068e+08\n",
       "Name: 2016-03-09 00:00:00, dtype: float64"
      ]
     },
     "execution_count": 11,
     "metadata": {},
     "output_type": "execute_result"
    }
   ],
   "source": [
    "aapl.iloc[0]"
   ]
  },
  {
   "cell_type": "code",
   "execution_count": 12,
   "metadata": {},
   "outputs": [
    {
     "data": {
      "text/plain": [
       "Open         1.209300e+02\n",
       "High         1.210000e+02\n",
       "Low          1.162100e+02\n",
       "Close        1.163600e+02\n",
       "Adj Close    1.163600e+02\n",
       "Volume       1.539186e+08\n",
       "Name: 2021-03-08 00:00:00, dtype: float64"
      ]
     },
     "execution_count": 12,
     "metadata": {},
     "output_type": "execute_result"
    }
   ],
   "source": [
    "aapl.iloc[-1]"
   ]
  },
  {
   "cell_type": "code",
   "execution_count": 13,
   "metadata": {},
   "outputs": [
    {
     "data": {
      "text/html": [
       "<div>\n",
       "<style scoped>\n",
       "    .dataframe tbody tr th:only-of-type {\n",
       "        vertical-align: middle;\n",
       "    }\n",
       "\n",
       "    .dataframe tbody tr th {\n",
       "        vertical-align: top;\n",
       "    }\n",
       "\n",
       "    .dataframe thead th {\n",
       "        text-align: right;\n",
       "    }\n",
       "</style>\n",
       "<table border=\"1\" class=\"dataframe\">\n",
       "  <thead>\n",
       "    <tr style=\"text-align: right;\">\n",
       "      <th></th>\n",
       "      <th>Open</th>\n",
       "      <th>High</th>\n",
       "      <th>Low</th>\n",
       "      <th>Close</th>\n",
       "      <th>Adj Close</th>\n",
       "      <th>Volume</th>\n",
       "    </tr>\n",
       "    <tr>\n",
       "      <th>Date</th>\n",
       "      <th></th>\n",
       "      <th></th>\n",
       "      <th></th>\n",
       "      <th></th>\n",
       "      <th></th>\n",
       "      <th></th>\n",
       "    </tr>\n",
       "  </thead>\n",
       "  <tbody>\n",
       "    <tr>\n",
       "      <th>2016-03-09</th>\n",
       "      <td>25.327499</td>\n",
       "      <td>25.395000</td>\n",
       "      <td>25.067499</td>\n",
       "      <td>25.280001</td>\n",
       "      <td>23.513155</td>\n",
       "      <td>108806800</td>\n",
       "    </tr>\n",
       "    <tr>\n",
       "      <th>2016-03-10</th>\n",
       "      <td>25.352501</td>\n",
       "      <td>25.559999</td>\n",
       "      <td>25.037500</td>\n",
       "      <td>25.292500</td>\n",
       "      <td>23.524775</td>\n",
       "      <td>134054400</td>\n",
       "    </tr>\n",
       "    <tr>\n",
       "      <th>2016-03-11</th>\n",
       "      <td>25.559999</td>\n",
       "      <td>25.570000</td>\n",
       "      <td>25.375000</td>\n",
       "      <td>25.565001</td>\n",
       "      <td>23.778234</td>\n",
       "      <td>109632800</td>\n",
       "    </tr>\n",
       "    <tr>\n",
       "      <th>2016-03-14</th>\n",
       "      <td>25.477501</td>\n",
       "      <td>25.727501</td>\n",
       "      <td>25.445000</td>\n",
       "      <td>25.629999</td>\n",
       "      <td>23.838688</td>\n",
       "      <td>100304400</td>\n",
       "    </tr>\n",
       "  </tbody>\n",
       "</table>\n",
       "</div>"
      ],
      "text/plain": [
       "                 Open       High        Low      Close  Adj Close     Volume\n",
       "Date                                                                        \n",
       "2016-03-09  25.327499  25.395000  25.067499  25.280001  23.513155  108806800\n",
       "2016-03-10  25.352501  25.559999  25.037500  25.292500  23.524775  134054400\n",
       "2016-03-11  25.559999  25.570000  25.375000  25.565001  23.778234  109632800\n",
       "2016-03-14  25.477501  25.727501  25.445000  25.629999  23.838688  100304400"
      ]
     },
     "execution_count": 13,
     "metadata": {},
     "output_type": "execute_result"
    }
   ],
   "source": [
    "aapl.iloc[0:4]"
   ]
  },
  {
   "cell_type": "markdown",
   "metadata": {},
   "source": [
    "### Project\n",
    "Calculate the Simple Moving Average"
   ]
  },
  {
   "cell_type": "markdown",
   "metadata": {},
   "source": [
    "#### Step 1\n",
    "Access specific column"
   ]
  },
  {
   "cell_type": "code",
   "execution_count": 14,
   "metadata": {
    "scrolled": true
   },
   "outputs": [
    {
     "data": {
      "text/plain": [
       "Date\n",
       "2016-03-09     25.280001\n",
       "2016-03-10     25.292500\n",
       "2016-03-11     25.565001\n",
       "2016-03-14     25.629999\n",
       "2016-03-15     26.145000\n",
       "                 ...    \n",
       "2021-03-02    125.120003\n",
       "2021-03-03    122.059998\n",
       "2021-03-04    120.129997\n",
       "2021-03-05    121.419998\n",
       "2021-03-08    116.360001\n",
       "Name: Close, Length: 1258, dtype: float64"
      ]
     },
     "execution_count": 14,
     "metadata": {},
     "output_type": "execute_result"
    }
   ],
   "source": [
    "aapl['Close']"
   ]
  },
  {
   "cell_type": "markdown",
   "metadata": {},
   "source": [
    "#### Step 2\n",
    "Understand *rolling(.)*"
   ]
  },
  {
   "cell_type": "code",
   "execution_count": 15,
   "metadata": {},
   "outputs": [
    {
     "data": {
      "text/plain": [
       "Date\n",
       "2016-03-09          NaN\n",
       "2016-03-10    25.286251\n",
       "2016-03-11    25.428750\n",
       "2016-03-14    25.597500\n",
       "2016-03-15    25.887500\n",
       "Name: Close, dtype: float64"
      ]
     },
     "execution_count": 15,
     "metadata": {},
     "output_type": "execute_result"
    }
   ],
   "source": [
    "aapl['Close'].rolling(2).mean().head()"
   ]
  },
  {
   "cell_type": "code",
   "execution_count": 16,
   "metadata": {},
   "outputs": [
    {
     "data": {
      "text/plain": [
       "25.2862505"
      ]
     },
     "execution_count": 16,
     "metadata": {},
     "output_type": "execute_result"
    }
   ],
   "source": [
    "(25.292500 + 25.280001)/2"
   ]
  },
  {
   "cell_type": "code",
   "execution_count": 17,
   "metadata": {},
   "outputs": [
    {
     "data": {
      "text/plain": [
       "25.4287505"
      ]
     },
     "execution_count": 17,
     "metadata": {},
     "output_type": "execute_result"
    }
   ],
   "source": [
    "(25.565001 + 25.292500)/2"
   ]
  },
  {
   "cell_type": "code",
   "execution_count": null,
   "metadata": {},
   "outputs": [],
   "source": [
    "aapl['Close'].rolling(5).mean().head()"
   ]
  },
  {
   "cell_type": "markdown",
   "metadata": {},
   "source": [
    "#### Step 3\n",
    "Add a new column to the DataFrame"
   ]
  },
  {
   "cell_type": "code",
   "execution_count": null,
   "metadata": {},
   "outputs": [],
   "source": [
    "aapl['MA10'] = aapl['Close'].rolling(10).mean()"
   ]
  },
  {
   "cell_type": "code",
   "execution_count": null,
   "metadata": {},
   "outputs": [],
   "source": [
    "aapl.tail()"
   ]
  },
  {
   "cell_type": "code",
   "execution_count": null,
   "metadata": {},
   "outputs": [],
   "source": []
  }
 ],
 "metadata": {
  "kernelspec": {
   "display_name": "Python 3",
   "language": "python",
   "name": "python3"
  },
  "language_info": {
   "codemirror_mode": {
    "name": "ipython",
    "version": 3
   },
   "file_extension": ".py",
   "mimetype": "text/x-python",
   "name": "python",
   "nbconvert_exporter": "python",
   "pygments_lexer": "ipython3",
   "version": "3.8.10"
  }
 },
 "nbformat": 4,
 "nbformat_minor": 4
}
